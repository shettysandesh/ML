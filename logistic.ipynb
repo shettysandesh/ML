{
 "cells": [
  {
   "cell_type": "code",
   "execution_count": 2,
   "metadata": {},
   "outputs": [],
   "source": [
    "import numpy as np\n",
    "import pandas as pd\n",
    "from sklearn.linear_model import LinearRegression\n",
    "from sklearn import metrics"
   ]
  },
  {
   "cell_type": "code",
   "execution_count": 3,
   "metadata": {},
   "outputs": [],
   "source": [
    "from pandas.plotting import scatter_matrix \n",
    "import matplotlib.pyplot as plt \n",
    "from sklearn import model_selection \n",
    "from sklearn.metrics import classification_report, confusion_matrix, accuracy_score \n",
    "from sklearn.linear_model import LogisticRegression \n",
    "from sklearn.tree import DecisionTreeClassifier \n",
    "from sklearn.neighbors import KNeighborsClassifier \n",
    "import datetime\n",
    "\n",
    "from sklearn.preprocessing import StandardScaler\n",
    "from sklearn.discriminant_analysis import LinearDiscriminantAnalysis\n",
    "from sklearn.tree import DecisionTreeRegressor\n",
    "from sklearn.model_selection import train_test_split\n",
    "from sklearn.metrics import mean_squared_error\n",
    "from sklearn.metrics import mean_squared_error, r2_score\n",
    "from sklearn.preprocessing import PolynomialFeatures"
   ]
  },
  {
   "cell_type": "code",
   "execution_count": 4,
   "metadata": {},
   "outputs": [],
   "source": [
    "data_path = \"house sale.csv\""
   ]
  },
  {
   "cell_type": "code",
   "execution_count": 5,
   "metadata": {},
   "outputs": [
    {
     "name": "stdout",
     "output_type": "stream",
     "text": [
      "     Number                  Address  Bedrooms  Baths  SquareFeet  YearBuilt  \\\n",
      "0         1     1510 First Ave #112          2    1.0        1120       1993   \n",
      "1         2          1020 Center St          3    1.0        1224       1900   \n",
      "2         3       918 Chatterton St          4    1.0        1540       1970   \n",
      "3         4  1023 & 1025 Spring St.          3    1.0        1154       1900   \n",
      "4         5             503 2nd Ave          3    1.0        1277       1900   \n",
      "..      ...                      ...       ...    ...         ...        ...   \n",
      "924     925               569 Hwy 6          4    3.0        1920       2006   \n",
      "925     926    2000 Country Club Dr          4    3.0        2958       1968   \n",
      "926     927            311 11th Ave          4    3.0        3359       1993   \n",
      "927     928           384 450th Ave          3    2.5        1565       1987   \n",
      "928     929           154 Walnut Rd          5    6.0        3792       1990   \n",
      "\n",
      "     YearSold  CostPerSqFt  SalePrice  \n",
      "0        2005         6.25       7000  \n",
      "1        2006        22.06      27000  \n",
      "2        2006        18.18      28000  \n",
      "3        2006        26.00      30000  \n",
      "4        2005        24.08      30750  \n",
      "..        ...          ...        ...  \n",
      "924      2014       169.27     325000  \n",
      "925      2014       121.70     360000  \n",
      "926      2014       107.92     362500  \n",
      "927      2015       258.79     405000  \n",
      "928      2014       159.81     606000  \n",
      "\n",
      "[929 rows x 9 columns]\n"
     ]
    }
   ],
   "source": [
    "train = pd.read_csv(data_path)\n",
    "print(train)"
   ]
  },
  {
   "cell_type": "code",
   "execution_count": 6,
   "metadata": {},
   "outputs": [],
   "source": [
    "feature_names = ['Bedrooms','Baths','SquareFeet','YearBuilt','YearSold']"
   ]
  },
  {
   "cell_type": "code",
   "execution_count": 7,
   "metadata": {},
   "outputs": [],
   "source": [
    "data = pd.DataFrame()"
   ]
  },
  {
   "cell_type": "code",
   "execution_count": 8,
   "metadata": {},
   "outputs": [],
   "source": [
    "data['Bedrooms']=train['Bedrooms']\n",
    "data['Baths']=train['Baths']\n",
    "data['SquareFeet']=train['SquareFeet']\n",
    "data['YearBuilt']=train['YearBuilt']\n",
    "data['YearSold']=train['YearSold']\n",
    "data['SalePrice']=train['SalePrice']"
   ]
  },
  {
   "cell_type": "code",
   "execution_count": 9,
   "metadata": {},
   "outputs": [
    {
     "data": {
      "text/html": [
       "<div>\n",
       "<style scoped>\n",
       "    .dataframe tbody tr th:only-of-type {\n",
       "        vertical-align: middle;\n",
       "    }\n",
       "\n",
       "    .dataframe tbody tr th {\n",
       "        vertical-align: top;\n",
       "    }\n",
       "\n",
       "    .dataframe thead th {\n",
       "        text-align: right;\n",
       "    }\n",
       "</style>\n",
       "<table border=\"1\" class=\"dataframe\">\n",
       "  <thead>\n",
       "    <tr style=\"text-align: right;\">\n",
       "      <th></th>\n",
       "      <th>Bedrooms</th>\n",
       "      <th>Baths</th>\n",
       "      <th>SquareFeet</th>\n",
       "      <th>YearBuilt</th>\n",
       "      <th>YearSold</th>\n",
       "      <th>SalePrice</th>\n",
       "    </tr>\n",
       "  </thead>\n",
       "  <tbody>\n",
       "    <tr>\n",
       "      <th>0</th>\n",
       "      <td>2</td>\n",
       "      <td>1.0</td>\n",
       "      <td>1120</td>\n",
       "      <td>1993</td>\n",
       "      <td>2005</td>\n",
       "      <td>7000</td>\n",
       "    </tr>\n",
       "    <tr>\n",
       "      <th>1</th>\n",
       "      <td>3</td>\n",
       "      <td>1.0</td>\n",
       "      <td>1224</td>\n",
       "      <td>1900</td>\n",
       "      <td>2006</td>\n",
       "      <td>27000</td>\n",
       "    </tr>\n",
       "    <tr>\n",
       "      <th>2</th>\n",
       "      <td>4</td>\n",
       "      <td>1.0</td>\n",
       "      <td>1540</td>\n",
       "      <td>1970</td>\n",
       "      <td>2006</td>\n",
       "      <td>28000</td>\n",
       "    </tr>\n",
       "    <tr>\n",
       "      <th>3</th>\n",
       "      <td>3</td>\n",
       "      <td>1.0</td>\n",
       "      <td>1154</td>\n",
       "      <td>1900</td>\n",
       "      <td>2006</td>\n",
       "      <td>30000</td>\n",
       "    </tr>\n",
       "    <tr>\n",
       "      <th>4</th>\n",
       "      <td>3</td>\n",
       "      <td>1.0</td>\n",
       "      <td>1277</td>\n",
       "      <td>1900</td>\n",
       "      <td>2005</td>\n",
       "      <td>30750</td>\n",
       "    </tr>\n",
       "  </tbody>\n",
       "</table>\n",
       "</div>"
      ],
      "text/plain": [
       "   Bedrooms  Baths  SquareFeet  YearBuilt  YearSold  SalePrice\n",
       "0         2    1.0        1120       1993      2005       7000\n",
       "1         3    1.0        1224       1900      2006      27000\n",
       "2         4    1.0        1540       1970      2006      28000\n",
       "3         3    1.0        1154       1900      2006      30000\n",
       "4         3    1.0        1277       1900      2005      30750"
      ]
     },
     "execution_count": 9,
     "metadata": {},
     "output_type": "execute_result"
    }
   ],
   "source": [
    "data.head() "
   ]
  },
  {
   "cell_type": "code",
   "execution_count": 10,
   "metadata": {},
   "outputs": [],
   "source": [
    "X = data[feature_names]"
   ]
  },
  {
   "cell_type": "code",
   "execution_count": 11,
   "metadata": {},
   "outputs": [
    {
     "name": "stdout",
     "output_type": "stream",
     "text": [
      "     Bedrooms  Baths  SquareFeet  YearBuilt  YearSold\n",
      "0           2    1.0        1120       1993      2005\n",
      "1           3    1.0        1224       1900      2006\n",
      "2           4    1.0        1540       1970      2006\n",
      "3           3    1.0        1154       1900      2006\n",
      "4           3    1.0        1277       1900      2005\n",
      "..        ...    ...         ...        ...       ...\n",
      "924         4    3.0        1920       2006      2014\n",
      "925         4    3.0        2958       1968      2014\n",
      "926         4    3.0        3359       1993      2014\n",
      "927         3    2.5        1565       1987      2015\n",
      "928         5    6.0        3792       1990      2014\n",
      "\n",
      "[929 rows x 5 columns]\n"
     ]
    }
   ],
   "source": [
    "print(X)"
   ]
  },
  {
   "cell_type": "code",
   "execution_count": 12,
   "metadata": {},
   "outputs": [],
   "source": [
    "y = data.SalePrice\n"
   ]
  },
  {
   "cell_type": "code",
   "execution_count": 13,
   "metadata": {},
   "outputs": [
    {
     "name": "stdout",
     "output_type": "stream",
     "text": [
      "0        7000\n",
      "1       27000\n",
      "2       28000\n",
      "3       30000\n",
      "4       30750\n",
      "        ...  \n",
      "924    325000\n",
      "925    360000\n",
      "926    362500\n",
      "927    405000\n",
      "928    606000\n",
      "Name: SalePrice, Length: 929, dtype: int64\n"
     ]
    }
   ],
   "source": [
    "print(y)"
   ]
  },
  {
   "cell_type": "code",
   "execution_count": 14,
   "metadata": {},
   "outputs": [],
   "source": [
    "X_train, X_test, y_train, y_test = train_test_split(X,y,test_size=0.40, random_state=90)"
   ]
  },
  {
   "cell_type": "code",
   "execution_count": 15,
   "metadata": {},
   "outputs": [],
   "source": [
    "logreg = LogisticRegression()"
   ]
  },
  {
   "cell_type": "code",
   "execution_count": 16,
   "metadata": {},
   "outputs": [
    {
     "name": "stderr",
     "output_type": "stream",
     "text": [
      "c:\\users\\lenovo\\lib\\site-packages\\sklearn\\linear_model\\logistic.py:432: FutureWarning: Default solver will be changed to 'lbfgs' in 0.22. Specify a solver to silence this warning.\n",
      "  FutureWarning)\n",
      "c:\\users\\lenovo\\lib\\site-packages\\sklearn\\linear_model\\logistic.py:469: FutureWarning: Default multi_class will be changed to 'auto' in 0.22. Specify the multi_class option to silence this warning.\n",
      "  \"this warning.\", FutureWarning)\n"
     ]
    },
    {
     "data": {
      "text/plain": [
       "LogisticRegression(C=1.0, class_weight=None, dual=False, fit_intercept=True,\n",
       "                   intercept_scaling=1, l1_ratio=None, max_iter=100,\n",
       "                   multi_class='warn', n_jobs=None, penalty='l2',\n",
       "                   random_state=None, solver='warn', tol=0.0001, verbose=0,\n",
       "                   warm_start=False)"
      ]
     },
     "execution_count": 16,
     "metadata": {},
     "output_type": "execute_result"
    }
   ],
   "source": [
    "logreg.fit(X_train, y_train)"
   ]
  },
  {
   "cell_type": "code",
   "execution_count": 17,
   "metadata": {},
   "outputs": [
    {
     "data": {
      "text/plain": [
       "array([125000, 225000, 157000, 125000,  90000, 340000,  90000, 115000,\n",
       "        90000, 135000, 135000,  90000,  97000, 125000, 110000, 230000,\n",
       "       135000,  85000, 220000,  85000,  70000, 180000,  90000, 225000,\n",
       "        75000,  90000, 135000, 225000,  90000,  90000,  70000,  35151,\n",
       "       225000, 125000, 180000,  90000,  85000, 125000,  90000, 125000,\n",
       "       495000,  90000,  90000,  75000,  90000,  85000, 135000,  85000,\n",
       "       135000, 135000,  85000,  70000,  75000, 109000,  90000, 115000,\n",
       "       150950, 180000,  70000, 180000, 135000,  90000, 135000, 230000,\n",
       "       135000, 135000,  85000,  90000, 135000,  90000,  90000, 135000,\n",
       "        70000, 109000,  75000, 225000, 150950,  75000, 135000, 135000,\n",
       "        90000, 205000, 180000,  85000, 180000, 135000, 135000, 109000,\n",
       "       125000, 135000, 173000,  90000,  70000,  90000,  90000,  85000,\n",
       "       135000,  75000, 135000,  85000, 335000,  90000, 135000,  85000,\n",
       "        90000,  85000, 115000, 115000, 125000,  85000, 180000, 185000,\n",
       "        90000, 235000, 205000, 121500, 185000,  35151, 150950, 150950,\n",
       "        85000,  70000,  70000,  90000,  75000,  75000, 110000, 135000,\n",
       "       115000,  90000, 135000, 140000,  90000, 135000,  90000, 115000,\n",
       "        70000,  85000, 125000,  85000, 135000,  85000,  75000, 157000,\n",
       "       109000, 125000,  90000, 157000,  90000, 225000,  75000,  75000,\n",
       "        70000,  90000,  90000, 180000,  90000,  90000,  40000, 135000,\n",
       "        85000,  90000,  85000,  90000, 108000,  90000,  75000,  75000,\n",
       "        85000,  25000,  90000,  75000, 135000, 135000, 185000,  69900,\n",
       "       135000, 125000, 350000,  40000, 135000, 135000, 135000,  70000,\n",
       "       119500,  70000, 135000, 225000, 135000,  75000, 135000, 325000,\n",
       "        70000,  90000,  40000,  75000, 125000, 185000, 180000,  90000,\n",
       "       259000,  75000, 225000, 119500, 135000,  85000, 180000,  70000,\n",
       "       225000,  90000, 135000, 157000, 185000, 125000, 125000, 135000,\n",
       "       285200,  85000, 225000, 205000,  75000, 135000,  90000,  70000,\n",
       "       109000, 135000, 185000, 225000, 135000,  90000, 185000,  90000,\n",
       "        90000, 135000, 225000, 125000, 125000,  85000,  75000, 135000,\n",
       "        90000,  85000, 225000, 185000, 185000, 185000,  90000, 183000,\n",
       "        75000,  90000,  85000, 110000, 205000, 135000, 115000, 105000,\n",
       "        70000, 340000,  90000, 115000,  85000,  90000,  90000,  75000,\n",
       "        70000, 135000,  90000,  90000,  70000, 205000, 135000, 183000,\n",
       "       225000, 135000,  75000, 125000, 350000, 225000,  85000, 282500,\n",
       "        85000, 185000, 135000,  90000,  90000, 125000, 125000, 108000,\n",
       "        70000, 125000,  90000,  90000,  75000, 157000, 125000,  85000,\n",
       "        40000, 185000, 135000, 180000, 150950,  90000,  75000, 135000,\n",
       "       125000, 185000,  75000, 225000, 135000, 205000, 340000,  70000,\n",
       "       125000,  87000, 135000,  85000, 135000, 205000, 109000, 135000,\n",
       "       157000,  70000, 135000, 109000,  90000,  85000, 109000,  40000,\n",
       "        90000,  85000,  75000, 135000,  75000, 230000, 125000, 125000,\n",
       "       185000, 180000,  85000, 108000,  90000,  90000, 135000, 109000,\n",
       "       230000, 115000,  85000, 180000, 180000, 185000,  60000,  90000,\n",
       "       225000, 108000, 109000, 125000,  85000, 135000, 109000, 135000,\n",
       "       157000, 135000, 230000, 115000,  90000, 125000, 105000,  90000,\n",
       "        85000, 185000,  90000, 135000], dtype=int64)"
      ]
     },
     "execution_count": 17,
     "metadata": {},
     "output_type": "execute_result"
    }
   ],
   "source": [
    "y_pred = logreg.predict(X_test)\n",
    "y_pred"
   ]
  },
  {
   "cell_type": "code",
   "execution_count": 18,
   "metadata": {},
   "outputs": [
    {
     "data": {
      "text/plain": [
       "57175.247197584016"
      ]
     },
     "execution_count": 18,
     "metadata": {},
     "output_type": "execute_result"
    }
   ],
   "source": [
    "raw_data=np.sqrt(mean_squared_error(y_test, y_pred))\n",
    "raw_data"
   ]
  },
  {
   "cell_type": "code",
   "execution_count": 19,
   "metadata": {},
   "outputs": [
    {
     "data": {
      "text/plain": [
       "0.43447447837084097"
      ]
     },
     "execution_count": 19,
     "metadata": {},
     "output_type": "execute_result"
    }
   ],
   "source": [
    "r2 = r2_score(y_test,y_pred)\n",
    "r2"
   ]
  },
  {
   "cell_type": "code",
   "execution_count": 21,
   "metadata": {},
   "outputs": [
    {
     "name": "stdout",
     "output_type": "stream",
     "text": [
      "ENTER VALUE FOR\n",
      "\n",
      "Bedrooms\n",
      "2\n",
      "Baths\n",
      "1\n",
      "SquareFeet\n",
      "1120\n",
      "YearBuilt\n",
      "1993\n",
      "YearSold\n",
      "2005\n"
     ]
    },
    {
     "name": "stderr",
     "output_type": "stream",
     "text": [
      "c:\\users\\lenovo\\lib\\site-packages\\sklearn\\linear_model\\logistic.py:432: FutureWarning: Default solver will be changed to 'lbfgs' in 0.22. Specify a solver to silence this warning.\n",
      "  FutureWarning)\n",
      "c:\\users\\lenovo\\lib\\site-packages\\sklearn\\linear_model\\logistic.py:469: FutureWarning: Default multi_class will be changed to 'auto' in 0.22. Specify the multi_class option to silence this warning.\n",
      "  \"this warning.\", FutureWarning)\n"
     ]
    },
    {
     "name": "stdout",
     "output_type": "stream",
     "text": [
      "Computer Price:\r\n",
      "[90000]\n"
     ]
    }
   ],
   "source": [
    "naming=['Bedrooms','Baths','SquareFeet','YearBuilt','YearSold']\n",
    "B=[]\n",
    "print(\"ENTER VALUE FOR\\n\")\n",
    "for i in naming:\n",
    "  print(i)\n",
    "  B.append(input())\n",
    "X_value=np.reshape(B,(1, -1))\n",
    "getresult=LogisticRegression()\n",
    "getresult.fit(X_train, y_train)\n",
    "predictions=getresult.predict(X_value.astype('int'))\n",
    "print(\"Computer Price:\\r\")\n",
    "print(predictions.astype('int'))"
   ]
  },
  {
   "cell_type": "code",
   "execution_count": null,
   "metadata": {},
   "outputs": [],
   "source": []
  },
  {
   "cell_type": "code",
   "execution_count": null,
   "metadata": {},
   "outputs": [],
   "source": []
  },
  {
   "cell_type": "code",
   "execution_count": null,
   "metadata": {},
   "outputs": [],
   "source": []
  }
 ],
 "metadata": {
  "kernelspec": {
   "display_name": "Python 3",
   "language": "python",
   "name": "python3"
  },
  "language_info": {
   "codemirror_mode": {
    "name": "ipython",
    "version": 3
   },
   "file_extension": ".py",
   "mimetype": "text/x-python",
   "name": "python",
   "nbconvert_exporter": "python",
   "pygments_lexer": "ipython3",
   "version": "3.7.4"
  }
 },
 "nbformat": 4,
 "nbformat_minor": 2
}
